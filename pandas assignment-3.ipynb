{
 "cells": [
  {
   "cell_type": "code",
   "execution_count": 18,
   "id": "d740f6b1",
   "metadata": {},
   "outputs": [],
   "source": [
    "import numpy as np\n",
    "import pandas as pd"
   ]
  },
  {
   "cell_type": "code",
   "execution_count": 19,
   "id": "55ee9a1e",
   "metadata": {},
   "outputs": [],
   "source": [
    "data=pd.read_csv(r\"C:\\Users\\HARI KRISHNA\\Downloads\\all_grains_data.csv\")"
   ]
  },
  {
   "cell_type": "code",
   "execution_count": 20,
   "id": "e04de6c3",
   "metadata": {},
   "outputs": [],
   "source": [
    "datac=data.copy()"
   ]
  },
  {
   "cell_type": "code",
   "execution_count": 21,
   "id": "e30b1965",
   "metadata": {
    "scrolled": false
   },
   "outputs": [
    {
     "data": {
      "text/html": [
       "<div>\n",
       "<style scoped>\n",
       "    .dataframe tbody tr th:only-of-type {\n",
       "        vertical-align: middle;\n",
       "    }\n",
       "\n",
       "    .dataframe tbody tr th {\n",
       "        vertical-align: top;\n",
       "    }\n",
       "\n",
       "    .dataframe thead th {\n",
       "        text-align: right;\n",
       "    }\n",
       "</style>\n",
       "<table border=\"1\" class=\"dataframe\">\n",
       "  <thead>\n",
       "    <tr style=\"text-align: right;\">\n",
       "      <th></th>\n",
       "      <th>ticker</th>\n",
       "      <th>commodity</th>\n",
       "      <th>date</th>\n",
       "      <th>open</th>\n",
       "      <th>high</th>\n",
       "      <th>low</th>\n",
       "      <th>close</th>\n",
       "      <th>volume</th>\n",
       "    </tr>\n",
       "  </thead>\n",
       "  <tbody>\n",
       "    <tr>\n",
       "      <th>0</th>\n",
       "      <td>ZC=F</td>\n",
       "      <td>Corn</td>\n",
       "      <td>2000-07-17</td>\n",
       "      <td>182.25</td>\n",
       "      <td>182.25</td>\n",
       "      <td>178.25</td>\n",
       "      <td>179.25</td>\n",
       "      <td>19385</td>\n",
       "    </tr>\n",
       "    <tr>\n",
       "      <th>1</th>\n",
       "      <td>ZC=F</td>\n",
       "      <td>Corn</td>\n",
       "      <td>2000-07-18</td>\n",
       "      <td>179.00</td>\n",
       "      <td>183.25</td>\n",
       "      <td>179.00</td>\n",
       "      <td>180.75</td>\n",
       "      <td>25205</td>\n",
       "    </tr>\n",
       "    <tr>\n",
       "      <th>2</th>\n",
       "      <td>ZC=F</td>\n",
       "      <td>Corn</td>\n",
       "      <td>2000-07-19</td>\n",
       "      <td>180.00</td>\n",
       "      <td>182.75</td>\n",
       "      <td>178.75</td>\n",
       "      <td>182.00</td>\n",
       "      <td>17126</td>\n",
       "    </tr>\n",
       "    <tr>\n",
       "      <th>3</th>\n",
       "      <td>ZC=F</td>\n",
       "      <td>Corn</td>\n",
       "      <td>2000-07-20</td>\n",
       "      <td>181.50</td>\n",
       "      <td>187.00</td>\n",
       "      <td>181.00</td>\n",
       "      <td>186.00</td>\n",
       "      <td>18742</td>\n",
       "    </tr>\n",
       "    <tr>\n",
       "      <th>4</th>\n",
       "      <td>ZC=F</td>\n",
       "      <td>Corn</td>\n",
       "      <td>2000-07-21</td>\n",
       "      <td>185.50</td>\n",
       "      <td>188.00</td>\n",
       "      <td>185.00</td>\n",
       "      <td>187.75</td>\n",
       "      <td>16814</td>\n",
       "    </tr>\n",
       "    <tr>\n",
       "      <th>...</th>\n",
       "      <td>...</td>\n",
       "      <td>...</td>\n",
       "      <td>...</td>\n",
       "      <td>...</td>\n",
       "      <td>...</td>\n",
       "      <td>...</td>\n",
       "      <td>...</td>\n",
       "      <td>...</td>\n",
       "    </tr>\n",
       "    <tr>\n",
       "      <th>34878</th>\n",
       "      <td>ZS=F</td>\n",
       "      <td>Soybean</td>\n",
       "      <td>2023-09-11</td>\n",
       "      <td>1352.50</td>\n",
       "      <td>1352.50</td>\n",
       "      <td>1352.00</td>\n",
       "      <td>1352.50</td>\n",
       "      <td>36</td>\n",
       "    </tr>\n",
       "    <tr>\n",
       "      <th>34879</th>\n",
       "      <td>ZS=F</td>\n",
       "      <td>Soybean</td>\n",
       "      <td>2023-09-12</td>\n",
       "      <td>1348.75</td>\n",
       "      <td>1348.75</td>\n",
       "      <td>1331.75</td>\n",
       "      <td>1331.75</td>\n",
       "      <td>274</td>\n",
       "    </tr>\n",
       "    <tr>\n",
       "      <th>34880</th>\n",
       "      <td>ZS=F</td>\n",
       "      <td>Soybean</td>\n",
       "      <td>2023-09-13</td>\n",
       "      <td>1325.50</td>\n",
       "      <td>1336.00</td>\n",
       "      <td>1325.50</td>\n",
       "      <td>1336.00</td>\n",
       "      <td>201</td>\n",
       "    </tr>\n",
       "    <tr>\n",
       "      <th>34881</th>\n",
       "      <td>ZS=F</td>\n",
       "      <td>Soybean</td>\n",
       "      <td>2023-09-14</td>\n",
       "      <td>1343.75</td>\n",
       "      <td>1343.75</td>\n",
       "      <td>1343.75</td>\n",
       "      <td>1343.75</td>\n",
       "      <td>138778</td>\n",
       "    </tr>\n",
       "    <tr>\n",
       "      <th>34882</th>\n",
       "      <td>ZS=F</td>\n",
       "      <td>Soybean</td>\n",
       "      <td>2023-09-15</td>\n",
       "      <td>1360.50</td>\n",
       "      <td>1367.75</td>\n",
       "      <td>1338.25</td>\n",
       "      <td>1340.25</td>\n",
       "      <td>138778</td>\n",
       "    </tr>\n",
       "  </tbody>\n",
       "</table>\n",
       "<p>34883 rows × 8 columns</p>\n",
       "</div>"
      ],
      "text/plain": [
       "      ticker commodity        date     open     high      low    close  volume\n",
       "0       ZC=F      Corn  2000-07-17   182.25   182.25   178.25   179.25   19385\n",
       "1       ZC=F      Corn  2000-07-18   179.00   183.25   179.00   180.75   25205\n",
       "2       ZC=F      Corn  2000-07-19   180.00   182.75   178.75   182.00   17126\n",
       "3       ZC=F      Corn  2000-07-20   181.50   187.00   181.00   186.00   18742\n",
       "4       ZC=F      Corn  2000-07-21   185.50   188.00   185.00   187.75   16814\n",
       "...      ...       ...         ...      ...      ...      ...      ...     ...\n",
       "34878   ZS=F   Soybean  2023-09-11  1352.50  1352.50  1352.00  1352.50      36\n",
       "34879   ZS=F   Soybean  2023-09-12  1348.75  1348.75  1331.75  1331.75     274\n",
       "34880   ZS=F   Soybean  2023-09-13  1325.50  1336.00  1325.50  1336.00     201\n",
       "34881   ZS=F   Soybean  2023-09-14  1343.75  1343.75  1343.75  1343.75  138778\n",
       "34882   ZS=F   Soybean  2023-09-15  1360.50  1367.75  1338.25  1340.25  138778\n",
       "\n",
       "[34883 rows x 8 columns]"
      ]
     },
     "execution_count": 21,
     "metadata": {},
     "output_type": "execute_result"
    }
   ],
   "source": [
    "datac"
   ]
  },
  {
   "cell_type": "code",
   "execution_count": 22,
   "id": "3f73f992",
   "metadata": {},
   "outputs": [
    {
     "name": "stdout",
     "output_type": "stream",
     "text": [
      "<class 'pandas.core.frame.DataFrame'>\n",
      "RangeIndex: 34883 entries, 0 to 34882\n",
      "Data columns (total 8 columns):\n",
      " #   Column     Non-Null Count  Dtype  \n",
      "---  ------     --------------  -----  \n",
      " 0   ticker     34883 non-null  object \n",
      " 1   commodity  34883 non-null  object \n",
      " 2   date       34883 non-null  object \n",
      " 3   open       34883 non-null  float64\n",
      " 4   high       34883 non-null  float64\n",
      " 5   low        34883 non-null  float64\n",
      " 6   close      34883 non-null  float64\n",
      " 7   volume     34883 non-null  int64  \n",
      "dtypes: float64(4), int64(1), object(3)\n",
      "memory usage: 2.1+ MB\n"
     ]
    }
   ],
   "source": [
    "datac.info()"
   ]
  },
  {
   "cell_type": "code",
   "execution_count": 23,
   "id": "525507c9",
   "metadata": {},
   "outputs": [],
   "source": [
    "datac[\"date\"]=pd.to_datetime(datac[\"date\"])\n"
   ]
  },
  {
   "cell_type": "code",
   "execution_count": 24,
   "id": "03c24b09",
   "metadata": {},
   "outputs": [
    {
     "name": "stdout",
     "output_type": "stream",
     "text": [
      "<class 'pandas.core.frame.DataFrame'>\n",
      "RangeIndex: 34883 entries, 0 to 34882\n",
      "Data columns (total 8 columns):\n",
      " #   Column     Non-Null Count  Dtype         \n",
      "---  ------     --------------  -----         \n",
      " 0   ticker     34883 non-null  object        \n",
      " 1   commodity  34883 non-null  object        \n",
      " 2   date       34883 non-null  datetime64[ns]\n",
      " 3   open       34883 non-null  float64       \n",
      " 4   high       34883 non-null  float64       \n",
      " 5   low        34883 non-null  float64       \n",
      " 6   close      34883 non-null  float64       \n",
      " 7   volume     34883 non-null  int64         \n",
      "dtypes: datetime64[ns](1), float64(4), int64(1), object(2)\n",
      "memory usage: 2.1+ MB\n"
     ]
    }
   ],
   "source": [
    "datac.info()"
   ]
  },
  {
   "cell_type": "markdown",
   "id": "a6b8f4ac",
   "metadata": {},
   "source": [
    "# Q 1):Which commodity was having the highest opening price for the day."
   ]
  },
  {
   "cell_type": "code",
   "execution_count": 25,
   "id": "ce3dcdc5",
   "metadata": {
    "scrolled": true
   },
   "outputs": [
    {
     "data": {
      "text/plain": [
       "commodity    Corn\n",
       "Name: 2435, dtype: object"
      ]
     },
     "execution_count": 25,
     "metadata": {},
     "output_type": "execute_result"
    }
   ],
   "source": [
    "datac.loc[datac[\"open\"].max(),[\"commodity\"]]"
   ]
  },
  {
   "cell_type": "code",
   "execution_count": 26,
   "id": "820e731d",
   "metadata": {},
   "outputs": [
    {
     "data": {
      "text/html": [
       "<div>\n",
       "<style scoped>\n",
       "    .dataframe tbody tr th:only-of-type {\n",
       "        vertical-align: middle;\n",
       "    }\n",
       "\n",
       "    .dataframe tbody tr th {\n",
       "        vertical-align: top;\n",
       "    }\n",
       "\n",
       "    .dataframe thead th {\n",
       "        text-align: right;\n",
       "    }\n",
       "</style>\n",
       "<table border=\"1\" class=\"dataframe\">\n",
       "  <thead>\n",
       "    <tr style=\"text-align: right;\">\n",
       "      <th></th>\n",
       "      <th>commodity</th>\n",
       "      <th>open</th>\n",
       "      <th>date</th>\n",
       "    </tr>\n",
       "  </thead>\n",
       "  <tbody>\n",
       "    <tr>\n",
       "      <th>19437</th>\n",
       "      <td>Rough Rice</td>\n",
       "      <td>2435.0</td>\n",
       "      <td>2008-04-24</td>\n",
       "    </tr>\n",
       "  </tbody>\n",
       "</table>\n",
       "</div>"
      ],
      "text/plain": [
       "        commodity    open       date\n",
       "19437  Rough Rice  2435.0 2008-04-24"
      ]
     },
     "execution_count": 26,
     "metadata": {},
     "output_type": "execute_result"
    }
   ],
   "source": [
    "max=datac[\"open\"].max()\n",
    "datac.loc[datac[\"open\"]==max,[\"commodity\",\"open\",\"date\"]]\n"
   ]
  },
  {
   "cell_type": "markdown",
   "id": "3ddbf152",
   "metadata": {},
   "source": [
    "# Q 2):Which commodity price reached  maximum during the trading session."
   ]
  },
  {
   "cell_type": "code",
   "execution_count": 27,
   "id": "dda47a1d",
   "metadata": {},
   "outputs": [
    {
     "data": {
      "text/html": [
       "<div>\n",
       "<style scoped>\n",
       "    .dataframe tbody tr th:only-of-type {\n",
       "        vertical-align: middle;\n",
       "    }\n",
       "\n",
       "    .dataframe tbody tr th {\n",
       "        vertical-align: top;\n",
       "    }\n",
       "\n",
       "    .dataframe thead th {\n",
       "        text-align: right;\n",
       "    }\n",
       "</style>\n",
       "<table border=\"1\" class=\"dataframe\">\n",
       "  <thead>\n",
       "    <tr style=\"text-align: right;\">\n",
       "      <th></th>\n",
       "      <th>commodity</th>\n",
       "      <th>high</th>\n",
       "      <th>date</th>\n",
       "    </tr>\n",
       "  </thead>\n",
       "  <tbody>\n",
       "    <tr>\n",
       "      <th>19437</th>\n",
       "      <td>Rough Rice</td>\n",
       "      <td>2468.5</td>\n",
       "      <td>2008-04-24</td>\n",
       "    </tr>\n",
       "  </tbody>\n",
       "</table>\n",
       "</div>"
      ],
      "text/plain": [
       "        commodity    high       date\n",
       "19437  Rough Rice  2468.5 2008-04-24"
      ]
     },
     "execution_count": 27,
     "metadata": {},
     "output_type": "execute_result"
    }
   ],
   "source": [
    "max1=datac[\"high\"].max()\n",
    "datac.loc[datac[\"high\"]==max1,[\"commodity\",\"high\",\"date\"]]"
   ]
  },
  {
   "cell_type": "markdown",
   "id": "e865852c",
   "metadata": {},
   "source": [
    "# Q 3):What is the average Market's opening price for the Oat in 2010"
   ]
  },
  {
   "cell_type": "code",
   "execution_count": 28,
   "id": "16708fb4",
   "metadata": {},
   "outputs": [
    {
     "data": {
      "text/plain": [
       "open    275.116071\n",
       "dtype: float64"
      ]
     },
     "execution_count": 28,
     "metadata": {},
     "output_type": "execute_result"
    }
   ],
   "source": [
    "datac.loc[(datac[\"date\"].dt.year==2010) & (datac[\"commodity\"]==\"Oat\"),[\"open\"]].mean()"
   ]
  },
  {
   "cell_type": "markdown",
   "id": "d7f6f664",
   "metadata": {},
   "source": [
    "# Q 4):What is the maximum and minimum Number of contracts traded during the 2009 "
   ]
  },
  {
   "cell_type": "code",
   "execution_count": 29,
   "id": "cb9216ae",
   "metadata": {},
   "outputs": [
    {
     "name": "stdout",
     "output_type": "stream",
     "text": [
      "maximum number of contracts traded during 2009\n",
      " volume    252221\n",
      "dtype: int64\n",
      "minimum number of contracts traded during 2009\n",
      " volume    0\n",
      "dtype: int64\n"
     ]
    }
   ],
   "source": [
    "max=datac.loc[(datac[\"date\"].dt.year==2009),[\"volume\"]].max()\n",
    "min=datac.loc[(datac[\"date\"].dt.year==2009),[\"volume\"]].min()\n",
    "print(\"maximum number of contracts traded during 2009\\n\",max)\n",
    "print(\"minimum number of contracts traded during 2009\\n\",min)"
   ]
  },
  {
   "cell_type": "markdown",
   "id": "aa3e79f3",
   "metadata": {},
   "source": [
    "# Q 5):Which year have  maximum and minimum Number of contracts traded "
   ]
  },
  {
   "cell_type": "code",
   "execution_count": 30,
   "id": "6bd5e1fe",
   "metadata": {},
   "outputs": [
    {
     "name": "stdout",
     "output_type": "stream",
     "text": [
      "the year when the maximum number of trades traded\n",
      "            date\n",
      "4216 2017-06-07\n",
      "\n",
      "the years when the minimum number of trades traded\n",
      "             date\n",
      "821   2003-12-11\n",
      "1328  2005-12-13\n",
      "4486  2018-07-03\n",
      "4528  2018-08-31\n",
      "5682  2023-04-06\n",
      "...          ...\n",
      "29219 2001-03-13\n",
      "30306 2005-07-12\n",
      "33573 2018-07-03\n",
      "33615 2018-08-31\n",
      "34771 2023-04-06\n",
      "\n",
      "[2812 rows x 1 columns]\n"
     ]
    }
   ],
   "source": [
    "max=datac[\"volume\"].max()\n",
    "min=datac[\"volume\"].min()\n",
    "year_max=datac.loc[datac[\"volume\"]==max,[\"date\"]]\n",
    "year_min=datac.loc[datac[\"volume\"]==min,[\"date\"]]\n",
    "print(\"the year when the maximum number of trades traded\\n\",year_max)\n",
    "print()\n",
    "print(\"the years when the minimum number of trades traded\\n\",year_min)"
   ]
  },
  {
   "cell_type": "markdown",
   "id": "24280e52",
   "metadata": {},
   "source": [
    "# Q 6):Which commodity have the average lowest opening price around 2001 to 2005 "
   ]
  },
  {
   "cell_type": "code",
   "execution_count": 31,
   "id": "cb89cb3d",
   "metadata": {},
   "outputs": [
    {
     "data": {
      "text/plain": [
       "open    21.41611\n",
       "Name: Soybean Oil, dtype: float64"
      ]
     },
     "execution_count": 31,
     "metadata": {},
     "output_type": "execute_result"
    }
   ],
   "source": [
    "max=datac.loc[(datac[\"date\"].dt.year>=2001) & (datac[\"date\"].dt.year<=2005),[\"commodity\",\"open\",\"date\"]]\n",
    "g=max.groupby(\"commodity\")\n",
    "a=g[[\"open\"]].mean()\n",
    "a.loc[\"Soybean Oil\"]"
   ]
  },
  {
   "cell_type": "markdown",
   "id": "ae1479fe",
   "metadata": {},
   "source": [
    "# Q 7):Which commodity have the best average  Market's closing price"
   ]
  },
  {
   "cell_type": "code",
   "execution_count": 32,
   "id": "b931d19e",
   "metadata": {},
   "outputs": [
    {
     "data": {
      "text/plain": [
       "close    1143.607925\n",
       "Name: Rough Rice, dtype: float64"
      ]
     },
     "execution_count": 32,
     "metadata": {},
     "output_type": "execute_result"
    }
   ],
   "source": [
    "g=datac.groupby(\"commodity\")\n",
    "a=g[[\"close\"]].mean()\n",
    "a.loc[\"Rough Rice\"]"
   ]
  },
  {
   "cell_type": "markdown",
   "id": "fb01f208",
   "metadata": {},
   "source": [
    "# Q 8):Which year corn have the highest and lowest Number of contracts traded"
   ]
  },
  {
   "cell_type": "code",
   "execution_count": 33,
   "id": "d43a38d1",
   "metadata": {},
   "outputs": [
    {
     "name": "stdout",
     "output_type": "stream",
     "text": [
      "the year when the maximum number of trades traded for CORN\n",
      "            date\n",
      "4216 2017-06-07\n",
      "\n",
      "the years when the minimum number of trades traded for CORN\n",
      "            date\n",
      "821  2003-12-11\n",
      "1328 2005-12-13\n",
      "4486 2018-07-03\n",
      "4528 2018-08-31\n",
      "5682 2023-04-06\n"
     ]
    }
   ],
   "source": [
    "max=datac[\"volume\"].max()\n",
    "min=datac[\"volume\"].min()\n",
    "year_max=datac.loc[(datac[\"volume\"]==max) & (datac[\"commodity\"]==\"Corn\"),[\"date\"]]\n",
    "year_min=datac.loc[(datac[\"volume\"]==min) & (datac[\"commodity\"]==\"Corn\"),[\"date\"]]\n",
    "print(\"the year when the maximum number of trades traded for CORN\\n\",year_max)\n",
    "print()\n",
    "print(\"the years when the minimum number of trades traded for CORN\\n\",year_min)\n"
   ]
  }
 ],
 "metadata": {
  "kernelspec": {
   "display_name": "Python 3 (ipykernel)",
   "language": "python",
   "name": "python3"
  },
  "language_info": {
   "codemirror_mode": {
    "name": "ipython",
    "version": 3
   },
   "file_extension": ".py",
   "mimetype": "text/x-python",
   "name": "python",
   "nbconvert_exporter": "python",
   "pygments_lexer": "ipython3",
   "version": "3.11.3"
  }
 },
 "nbformat": 4,
 "nbformat_minor": 5
}
